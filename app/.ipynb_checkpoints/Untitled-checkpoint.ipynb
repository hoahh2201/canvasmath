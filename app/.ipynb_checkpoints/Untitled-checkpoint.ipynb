{
 "cells": [
  {
   "cell_type": "code",
   "execution_count": 2,
   "metadata": {},
   "outputs": [
    {
     "name": "stdout",
     "output_type": "stream",
     "text": [
      "Collecting google.cloud\n",
      "  Using cached https://files.pythonhosted.org/packages/ba/b1/7c54d1950e7808df06642274e677dbcedba57f75307adf2e5ad8d39e5e0e/google_cloud-0.34.0-py2.py3-none-any.whl\n",
      "Installing collected packages: google.cloud\n",
      "Successfully installed google.cloud\n"
     ]
    }
   ],
   "source": [
    "!pip install google.cloud"
   ]
  },
  {
   "cell_type": "code",
   "execution_count": 3,
   "metadata": {},
   "outputs": [
    {
     "name": "stdout",
     "output_type": "stream",
     "text": [
      "Requirement already satisfied: firestore in /Users/hoahh2201/anaconda3/lib/python3.7/site-packages (0.0.8)\n",
      "Requirement already satisfied: firebase-admin in /Users/hoahh2201/anaconda3/lib/python3.7/site-packages (from firestore) (3.0.0)\n",
      "Requirement already satisfied: iso8601 in /Users/hoahh2201/anaconda3/lib/python3.7/site-packages (from firestore) (0.1.12)\n",
      "Requirement already satisfied: google-api-python-client>=1.7.8 in /Users/hoahh2201/anaconda3/lib/python3.7/site-packages (from firebase-admin->firestore) (1.7.11)\n",
      "Requirement already satisfied: cachecontrol>=0.12.4 in /Users/hoahh2201/anaconda3/lib/python3.7/site-packages (from firebase-admin->firestore) (0.12.5)\n",
      "Requirement already satisfied: google-cloud-firestore>=1.4.0; platform_python_implementation != \"PyPy\" in /Users/hoahh2201/anaconda3/lib/python3.7/site-packages (from firebase-admin->firestore) (1.4.0)\n",
      "Requirement already satisfied: google-cloud-storage>=1.18.0 in /Users/hoahh2201/anaconda3/lib/python3.7/site-packages (from firebase-admin->firestore) (1.19.0)\n",
      "Requirement already satisfied: six>=1.6.1 in /Users/hoahh2201/anaconda3/lib/python3.7/site-packages (from firebase-admin->firestore) (1.12.0)\n",
      "Requirement already satisfied: google-api-core[grpc]<2.0.0dev,>=1.14.0; platform_python_implementation != \"PyPy\" in /Users/hoahh2201/anaconda3/lib/python3.7/site-packages (from firebase-admin->firestore) (1.14.2)\n",
      "Requirement already satisfied: google-auth>=1.4.1 in /Users/hoahh2201/anaconda3/lib/python3.7/site-packages (from google-api-python-client>=1.7.8->firebase-admin->firestore) (1.6.3)\n",
      "Requirement already satisfied: httplib2<1dev,>=0.9.2 in /Users/hoahh2201/anaconda3/lib/python3.7/site-packages (from google-api-python-client>=1.7.8->firebase-admin->firestore) (0.13.1)\n",
      "Requirement already satisfied: uritemplate<4dev,>=3.0.0 in /Users/hoahh2201/anaconda3/lib/python3.7/site-packages (from google-api-python-client>=1.7.8->firebase-admin->firestore) (3.0.0)\n",
      "Requirement already satisfied: google-auth-httplib2>=0.0.3 in /Users/hoahh2201/anaconda3/lib/python3.7/site-packages (from google-api-python-client>=1.7.8->firebase-admin->firestore) (0.0.3)\n",
      "Requirement already satisfied: msgpack in /Users/hoahh2201/anaconda3/lib/python3.7/site-packages (from cachecontrol>=0.12.4->firebase-admin->firestore) (0.6.1)\n",
      "Requirement already satisfied: requests in /Users/hoahh2201/anaconda3/lib/python3.7/site-packages (from cachecontrol>=0.12.4->firebase-admin->firestore) (2.22.0)\n",
      "Requirement already satisfied: google-cloud-core<2.0dev,>=1.0.0 in /Users/hoahh2201/anaconda3/lib/python3.7/site-packages (from google-cloud-firestore>=1.4.0; platform_python_implementation != \"PyPy\"->firebase-admin->firestore) (1.0.3)\n",
      "Requirement already satisfied: pytz in /Users/hoahh2201/anaconda3/lib/python3.7/site-packages (from google-cloud-firestore>=1.4.0; platform_python_implementation != \"PyPy\"->firebase-admin->firestore) (2019.1)\n",
      "Requirement already satisfied: google-resumable-media>=0.3.1 in /Users/hoahh2201/anaconda3/lib/python3.7/site-packages (from google-cloud-storage>=1.18.0->firebase-admin->firestore) (0.4.0)\n",
      "Requirement already satisfied: protobuf>=3.4.0 in /Users/hoahh2201/anaconda3/lib/python3.7/site-packages (from google-api-core[grpc]<2.0.0dev,>=1.14.0; platform_python_implementation != \"PyPy\"->firebase-admin->firestore) (3.9.1)\n",
      "Requirement already satisfied: setuptools>=34.0.0 in /Users/hoahh2201/anaconda3/lib/python3.7/site-packages (from google-api-core[grpc]<2.0.0dev,>=1.14.0; platform_python_implementation != \"PyPy\"->firebase-admin->firestore) (41.2.0)\n",
      "Requirement already satisfied: googleapis-common-protos<2.0dev,>=1.6.0 in /Users/hoahh2201/anaconda3/lib/python3.7/site-packages (from google-api-core[grpc]<2.0.0dev,>=1.14.0; platform_python_implementation != \"PyPy\"->firebase-admin->firestore) (1.6.0)\n",
      "Requirement already satisfied: grpcio<2.0dev,>=1.8.2; extra == \"grpc\" in /Users/hoahh2201/anaconda3/lib/python3.7/site-packages (from google-api-core[grpc]<2.0.0dev,>=1.14.0; platform_python_implementation != \"PyPy\"->firebase-admin->firestore) (1.23.0)\n",
      "Requirement already satisfied: cachetools>=2.0.0 in /Users/hoahh2201/anaconda3/lib/python3.7/site-packages (from google-auth>=1.4.1->google-api-python-client>=1.7.8->firebase-admin->firestore) (3.1.1)\n",
      "Requirement already satisfied: rsa>=3.1.4 in /Users/hoahh2201/anaconda3/lib/python3.7/site-packages (from google-auth>=1.4.1->google-api-python-client>=1.7.8->firebase-admin->firestore) (4.0)\n",
      "Requirement already satisfied: pyasn1-modules>=0.2.1 in /Users/hoahh2201/anaconda3/lib/python3.7/site-packages (from google-auth>=1.4.1->google-api-python-client>=1.7.8->firebase-admin->firestore) (0.2.6)\n",
      "Requirement already satisfied: idna<2.9,>=2.5 in /Users/hoahh2201/anaconda3/lib/python3.7/site-packages (from requests->cachecontrol>=0.12.4->firebase-admin->firestore) (2.8)\n",
      "Requirement already satisfied: chardet<3.1.0,>=3.0.2 in /Users/hoahh2201/anaconda3/lib/python3.7/site-packages (from requests->cachecontrol>=0.12.4->firebase-admin->firestore) (3.0.4)\n",
      "Requirement already satisfied: urllib3!=1.25.0,!=1.25.1,<1.26,>=1.21.1 in /Users/hoahh2201/anaconda3/lib/python3.7/site-packages (from requests->cachecontrol>=0.12.4->firebase-admin->firestore) (1.24.2)\n",
      "Requirement already satisfied: certifi>=2017.4.17 in /Users/hoahh2201/anaconda3/lib/python3.7/site-packages (from requests->cachecontrol>=0.12.4->firebase-admin->firestore) (2019.6.16)\n",
      "Requirement already satisfied: pyasn1>=0.1.3 in /Users/hoahh2201/anaconda3/lib/python3.7/site-packages (from rsa>=3.1.4->google-auth>=1.4.1->google-api-python-client>=1.7.8->firebase-admin->firestore) (0.4.7)\n"
     ]
    }
   ],
   "source": [
    "!pip install firestore"
   ]
  },
  {
   "cell_type": "code",
   "execution_count": 5,
   "metadata": {},
   "outputs": [],
   "source": [
    "from google.cloud import firestore"
   ]
  },
  {
   "cell_type": "code",
   "execution_count": 6,
   "metadata": {},
   "outputs": [],
   "source": [
    "\n",
    "!export GOOGLE_APPLICATION_CREDENTIALS=\"bemiracle.json\"\n",
    "\n",
    "\n",
    "\n",
    "\n",
    "\n",
    "\n"
   ]
  },
  {
   "cell_type": "code",
   "execution_count": 7,
   "metadata": {},
   "outputs": [
    {
     "name": "stderr",
     "output_type": "stream",
     "text": [
      "/Users/hoahh2201/anaconda3/lib/python3.7/site-packages/google/auth/_default.py:66: UserWarning: Your application has authenticated using end user credentials from Google Cloud SDK. We recommend that most server applications use service accounts instead. If your application continues to use end user credentials from Cloud SDK, you might receive a \"quota exceeded\" or \"API not enabled\" error. For more information about service accounts, see https://cloud.google.com/docs/authentication/\n",
      "  warnings.warn(_CLOUD_SDK_CREDENTIALS_WARNING)\n",
      "/Users/hoahh2201/anaconda3/lib/python3.7/site-packages/google/auth/_default.py:66: UserWarning: Your application has authenticated using end user credentials from Google Cloud SDK. We recommend that most server applications use service accounts instead. If your application continues to use end user credentials from Cloud SDK, you might receive a \"quota exceeded\" or \"API not enabled\" error. For more information about service accounts, see https://cloud.google.com/docs/authentication/\n",
      "  warnings.warn(_CLOUD_SDK_CREDENTIALS_WARNING)\n"
     ]
    }
   ],
   "source": [
    "firestore_client = firestore.Client()"
   ]
  },
  {
   "cell_type": "code",
   "execution_count": 8,
   "metadata": {},
   "outputs": [],
   "source": [
    "import firebase_admin\n",
    "from firebase_admin import credentials\n",
    "from firebase_admin import firestore"
   ]
  },
  {
   "cell_type": "code",
   "execution_count": 9,
   "metadata": {},
   "outputs": [],
   "source": [
    "# Use a service account\n",
    "cred = credentials.Certificate('bemiracle.json')\n",
    "firebase_admin.initialize_app(cred)\n",
    "db = firestore.client()"
   ]
  },
  {
   "cell_type": "code",
   "execution_count": 10,
   "metadata": {},
   "outputs": [
    {
     "name": "stderr",
     "output_type": "stream",
     "text": [
      "/Users/hoahh2201/anaconda3/lib/python3.7/site-packages/ipykernel_launcher.py:1: DeprecationWarning: 'Collection.get' is deprecated:  please use 'Collection.stream' instead.\n",
      "  \"\"\"Entry point for launching an IPython kernel.\n"
     ]
    },
    {
     "data": {
      "text/plain": [
       "[{}]"
      ]
     },
     "execution_count": 10,
     "metadata": {},
     "output_type": "execute_result"
    }
   ],
   "source": [
    "\n",
    "[product.to_dict() for product in db.collection('products').get()]"
   ]
  },
  {
   "cell_type": "code",
   "execution_count": 13,
   "metadata": {},
   "outputs": [
    {
     "name": "stderr",
     "output_type": "stream",
     "text": [
      "/Users/hoahh2201/anaconda3/lib/python3.7/site-packages/ipykernel_launcher.py:1: DeprecationWarning: 'Collection.get' is deprecated:  please use 'Collection.stream' instead.\n",
      "  \"\"\"Entry point for launching an IPython kernel.\n"
     ]
    },
    {
     "ename": "TypeError",
     "evalue": "object of type 'generator' has no len()",
     "output_type": "error",
     "traceback": [
      "\u001b[0;31m---------------------------------------------------------------------------\u001b[0m",
      "\u001b[0;31mTypeError\u001b[0m                                 Traceback (most recent call last)",
      "\u001b[0;32m<ipython-input-13-d6885aa5bfe3>\u001b[0m in \u001b[0;36m<module>\u001b[0;34m\u001b[0m\n\u001b[1;32m      1\u001b[0m \u001b[0mx\u001b[0m \u001b[0;34m=\u001b[0m \u001b[0mdb\u001b[0m\u001b[0;34m.\u001b[0m\u001b[0mcollection\u001b[0m\u001b[0;34m(\u001b[0m\u001b[0;34m'products'\u001b[0m\u001b[0;34m)\u001b[0m\u001b[0;34m.\u001b[0m\u001b[0mget\u001b[0m\u001b[0;34m(\u001b[0m\u001b[0;34m)\u001b[0m\u001b[0;34m\u001b[0m\u001b[0;34m\u001b[0m\u001b[0m\n\u001b[0;32m----> 2\u001b[0;31m \u001b[0mlen\u001b[0m\u001b[0;34m(\u001b[0m\u001b[0mx\u001b[0m\u001b[0;34m)\u001b[0m\u001b[0;34m\u001b[0m\u001b[0;34m\u001b[0m\u001b[0m\n\u001b[0m",
      "\u001b[0;31mTypeError\u001b[0m: object of type 'generator' has no len()"
     ]
    }
   ],
   "source": []
  },
  {
   "cell_type": "code",
   "execution_count": null,
   "metadata": {},
   "outputs": [],
   "source": []
  }
 ],
 "metadata": {
  "kernelspec": {
   "display_name": "Python 3",
   "language": "python",
   "name": "python3"
  },
  "language_info": {
   "codemirror_mode": {
    "name": "ipython",
    "version": 3
   },
   "file_extension": ".py",
   "mimetype": "text/x-python",
   "name": "python",
   "nbconvert_exporter": "python",
   "pygments_lexer": "ipython3",
   "version": "3.7.3"
  }
 },
 "nbformat": 4,
 "nbformat_minor": 2
}
