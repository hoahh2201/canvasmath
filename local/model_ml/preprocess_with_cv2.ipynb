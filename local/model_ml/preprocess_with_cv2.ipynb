{
 "cells": [
  {
   "cell_type": "code",
   "execution_count": 1,
   "metadata": {
    "colab": {},
    "colab_type": "code",
    "id": "3r1Z3rbiJFDN"
   },
   "outputs": [],
   "source": [
    "import cv2\n",
    "import mahotas\n",
    "import imutils\n",
    "import numpy as np\n",
    "import matplotlib.pyplot as plt\n",
    "\n",
    "import tensorflow as tf\n",
    "\n",
    "%matplotlib inline"
   ]
  },
  {
   "cell_type": "code",
   "execution_count": 2,
   "metadata": {
    "colab": {},
    "colab_type": "code",
    "id": "MHgRiI01JFDQ"
   },
   "outputs": [],
   "source": [
    "#you might need to install mahotas: pip install mahotas "
   ]
  },
  {
   "cell_type": "code",
   "execution_count": 95,
   "metadata": {
    "colab": {},
    "colab_type": "code",
    "id": "esDhgcs0JFDS",
    "outputId": "4e3b089c-2571-4d63-aa6d-d0404305753f"
   },
   "outputs": [
    {
     "data": {
      "image/png": "[encoded data removed]",
      "text/plain": [
       "<Figure size 432x288 with 1 Axes>"
      ]
     },
     "metadata": {
      "needs_background": "light"
     },
     "output_type": "display_data"
    }
   ],
   "source": [
    "image = cv2.imread('test_5.jpg')\n",
    "\n",
    "plt.imshow(imutils.opencv2matplotlib(image))\n",
    "plt.show()"
   ]
  },
  {
   "cell_type": "code",
   "execution_count": 4,
   "metadata": {
    "colab": {},
    "colab_type": "code",
    "id": "ZzbJ-k0aJFDU"
   },
   "outputs": [],
   "source": [
    "from skimage import feature\n",
    "\n",
    "class HOG:\n",
    "    def __init__(self, orientations=9, pixels_per_cell=(8,8), cells_per_block=(3,3), transform=False):\n",
    "        self.orientations = orientations\n",
    "        self.pixels_per_cell = pixels_per_cell\n",
    "        self.cells_per_block = cells_per_block\n",
    "        self.transform = transform\n",
    "\n",
    "    def describe(self, image):\n",
    "        hist = feature.hog(image,\n",
    "            orientations=self.orientations,\n",
    "            pixels_per_cell=self.pixels_per_cell,\n",
    "            cells_per_block=self.cells_per_block,\n",
    "            transform_sqrt=self.transform)\n",
    "        return hist"
   ]
  },
  {
   "cell_type": "code",
   "execution_count": 5,
   "metadata": {
    "colab": {},
    "colab_type": "code",
    "id": "ViwyH2IiJFDW"
   },
   "outputs": [],
   "source": [
    "def deskew(image, width):\n",
    "    (h, w) = image.shape[:2]\n",
    "    moments = cv2.moments(image)\n",
    "\n",
    "    skew = moments['mu11'] / moments['mu02']\n",
    "    M = np.float32([[1, skew, -0.5*w*skew],\n",
    "                    [0, 1, 0]])\n",
    "    image = cv2.warpAffine(image, M, (w, h), flags=cv2.WARP_INVERSE_MAP | cv2.INTER_LINEAR)\n",
    "\n",
    "    image = imutils.resize(image, width=width)\n",
    "\n",
    "    return image\n",
    "\n",
    "def center_extent(image, size):\n",
    "    (eW, eH) = size\n",
    "\n",
    "    if image.shape[1] > image.shape[0]:\n",
    "        image = imutils.resize(image, width=eW)\n",
    "    else:\n",
    "        image = imutils.resize(image, height=eH)\n",
    "\n",
    "    extent = np.zeros((eH, eW), dtype='uint8')\n",
    "    offsetX = (eW - image.shape[1]) // 2\n",
    "    offsetY = (eH - image.shape[0]) // 2\n",
    "    extent[offsetY:offsetY + image.shape[0], offsetX:offsetX+image.shape[1]] = image\n",
    "\n",
    "    CM = mahotas.center_of_mass(extent)\n",
    "    (cY, cX) = np.round(CM).astype(\"int32\")\n",
    "    (dX, dY) = ((size[0]//2) - cX, (size[1] // 2) - cY)\n",
    "    M = np.float32([[1, 0, dX], [0, 1, dY]])\n",
    "    extent = cv2.warpAffine(extent, M, size)\n",
    "\n",
    "    return extent"
   ]
  },
  {
   "cell_type": "code",
   "execution_count": 7,
   "metadata": {
    "colab": {},
    "colab_type": "code",
    "id": "CU0smcYcJFDY",
    "outputId": "411aaf93-f2bf-4111-9454-f6482833061a"
   },
   "outputs": [],
   "source": [
    "model = tf.keras.models.load_model('cnn_math_v1.h5')"
   ]
  },
  {
   "cell_type": "code",
   "execution_count": 7,
   "metadata": {
    "colab": {},
    "colab_type": "code",
    "id": "FJkCR3HhJFDa"
   },
   "outputs": [],
   "source": [
    "hog = HOG(orientations=18, pixels_per_cell=(10,10), cells_per_block=(1,1), transform=True)"
   ]
  },
  {
   "cell_type": "code",
   "execution_count": 100,
   "metadata": {
    "colab": {},
    "colab_type": "code",
    "id": "9KXpbRVTJFDc"
   },
   "outputs": [],
   "source": [
    "image = cv2.imread('test_5.jpg')\n",
    "gray = cv2.cvtColor(image, cv2.COLOR_BGR2GRAY)\n",
    "\n",
    "blurred = cv2.GaussianBlur(gray, (5,5), 0)\n",
    "# edged = cv2.Canny(blurred, 30, 150)\n",
    "# Threshold the image\n",
    "# ret, edged = cv2.threshold(blurred, 120, 255, cv2.THRESH_BINARY_INV)\n",
    "edged = cv2.adaptiveThreshold(blurred, 255, cv2.ADAPTIVE_THRESH_MEAN_C, cv2.THRESH_BINARY_INV, 11, 4)\n",
    "\n",
    "(cnts, _) = cv2.findContours(edged.copy(), cv2.RETR_EXTERNAL, cv2.CHAIN_APPROX_SIMPLE)\n",
    "\n",
    "cnts = sorted([(c, cv2.boundingRect(c)[0]) for c in  cnts], key=lambda x: x[1])"
   ]
  },
  {
   "cell_type": "code",
   "execution_count": 101,
   "metadata": {
    "colab": {},
    "colab_type": "code",
    "id": "lipayf1zJFDe",
    "outputId": "771ca193-304b-463a-e922-1e78291ae387"
   },
   "outputs": [
    {
     "data": {
      "image/png": "[encoded data removed]",
      "text/plain": [
       "<Figure size 864x576 with 1 Axes>"
      ]
     },
     "metadata": {
      "needs_background": "light"
     },
     "output_type": "display_data"
    }
   ],
   "source": [
    "plt.figure(figsize=(12,8))\n",
    "plt.imshow(imutils.opencv2matplotlib(edged))\n",
    "plt.show()"
   ]
  },
  {
   "cell_type": "code",
   "execution_count": 72,
   "metadata": {},
   "outputs": [],
   "source": [
    "label_names = ['0', '1', '2', '3', '4', '5', '6', '7', '8', '9', 'addition',\n",
    "       'division', 'multiplication', 'subtraction']"
   ]
  },
  {
   "cell_type": "code",
   "execution_count": 102,
   "metadata": {
    "colab": {},
    "colab_type": "code",
    "id": "B6DOFObjJFDg",
    "outputId": "01f24df2-ece5-4e5b-a616-986dc2a22d32"
   },
   "outputs": [
    {
     "data": {
      "image/png": "[encoded data removed]",
      "text/plain": [
       "<Figure size 864x576 with 1 Axes>"
      ]
     },
     "metadata": {
      "needs_background": "light"
     },
     "output_type": "display_data"
    },
    {
     "name": "stdout",
     "output_type": "stream",
     "text": [
      "[7.7368750e-06 9.9738222e-01 6.2249886e-04 9.1989677e-05 4.3961718e-06\n",
      " 4.0046137e-07 7.7488556e-07 3.7501122e-05 1.3595691e-05 6.9281210e-05\n",
      " 1.8982002e-05 1.0851056e-05 1.7394080e-03 3.7463300e-07]\n"
     ]
    },
    {
     "data": {
      "image/png": "[encoded data removed]",
      "text/plain": [
       "<Figure size 432x288 with 1 Axes>"
      ]
     },
     "metadata": {
      "needs_background": "light"
     },
     "output_type": "display_data"
    },
    {
     "name": "stdout",
     "output_type": "stream",
     "text": [
      "[9.99963284e-01 4.39682140e-08 2.66761253e-05 1.15412915e-08\n",
      " 8.51747700e-07 4.91885768e-11 1.75342234e-06 3.04088204e-08\n",
      " 7.43806777e-06 9.41145703e-11 2.22618191e-09 3.72406614e-13\n",
      " 3.99965366e-10 1.20172882e-11]\n"
     ]
    },
    {
     "data": {
      "image/png": "[encoded data removed]",
      "text/plain": [
       "<Figure size 432x288 with 1 Axes>"
      ]
     },
     "metadata": {
      "needs_background": "light"
     },
     "output_type": "display_data"
    },
    {
     "name": "stdout",
     "output_type": "stream",
     "text": [
      "[9.9335456e-01 6.6046305e-06 2.1598844e-05 5.0363752e-07 1.0062745e-07\n",
      " 3.1633332e-09 7.8765035e-04 1.6927761e-07 5.7520177e-03 2.7422289e-10\n",
      " 7.6810422e-05 1.1521656e-09 1.2962432e-08 5.5874078e-10]\n"
     ]
    },
    {
     "data": {
      "image/png": "[encoded data removed]",
      "text/plain": [
       "<Figure size 432x288 with 1 Axes>"
      ]
     },
     "metadata": {
      "needs_background": "light"
     },
     "output_type": "display_data"
    },
    {
     "name": "stdout",
     "output_type": "stream",
     "text": [
      "[1.4864623e-03 9.6110755e-01 2.3918075e-03 5.9512298e-04 2.1525394e-04\n",
      " 7.8104698e-05 2.1172139e-06 2.5394396e-03 2.3516600e-06 5.8261430e-05\n",
      " 1.5881202e-04 2.9344063e-02 9.9489087e-05 1.9211512e-03]\n"
     ]
    },
    {
     "data": {
      "image/png": "[encoded data removed]",
      "text/plain": [
       "<Figure size 432x288 with 1 Axes>"
      ]
     },
     "metadata": {
      "needs_background": "light"
     },
     "output_type": "display_data"
    },
    {
     "name": "stdout",
     "output_type": "stream",
     "text": [
      "[6.87409352e-10 4.13669515e-11 1.00000000e+00 1.26334445e-08\n",
      " 1.40558926e-10 3.18475037e-13 3.17049234e-11 4.37988241e-08\n",
      " 5.62618944e-11 4.97450518e-12 1.07136973e-10 3.42207207e-10\n",
      " 1.44842444e-10 1.34120728e-10]\n"
     ]
    },
    {
     "data": {
      "image/png": "[encoded data removed]",
      "text/plain": [
       "<Figure size 432x288 with 1 Axes>"
      ]
     },
     "metadata": {
      "needs_background": "light"
     },
     "output_type": "display_data"
    }
   ],
   "source": [
    "plt.figure(figsize=(12,8))\n",
    "math_detect = []\n",
    "for (c, _) in cnts:\n",
    "    (x, y, w, h) = cv2.boundingRect(c)\n",
    "\n",
    "    if w >=7 and h>=20:\n",
    "        roi = edged[y:y+int(1.2*h), x:x+w]\n",
    "        thresh = roi.copy()\n",
    "\n",
    "        thresh = deskew(thresh, 28)\n",
    "        thresh = center_extent(thresh, (28, 28))\n",
    "        thresh = np.reshape(thresh, (28, 28, 1))\n",
    "        thresh = thresh / 255\n",
    "        plt.imshow(thresh[:,:,0], cmap='gray')\n",
    "        plt.show()\n",
    "\n",
    "#         cv2.imshow('thresh', thresh)\n",
    "\n",
    "#         hist = hog.describe(thresh)\n",
    "#         digit = model.predict([hist])[0]\n",
    "#         print(\"Prediction {}\".format(digit))\n",
    "        # Predict\n",
    "#         label_names = np.array(label_names)\n",
    "#         predicted_batch = model.predict(image_batch)\n",
    "#         predicted_id = np.argmax(predicted_batch, axis=1)\n",
    "#         predicted_label_batch = label_names[predicted_id]\n",
    "\n",
    "#         predictions = model.predict(np.expand_dims(thresh, axis=0))\n",
    "        predictions = model.predict(np.expand_dims(thresh, axis=0))\n",
    "        digit = np.argmax(predictions[0])\n",
    "        print(predictions[0])\n",
    "\n",
    "        cv2.rectangle(image, (x,y), (x+w, y+h), (0,255,0), 2)\n",
    "        cv2.putText(image, label_names[digit], (x-10,y-10), cv2.FONT_HERSHEY_SIMPLEX, 2, (0,255,0), 2)\n",
    "        math_detect.append(label_names[digit])\n",
    "#         cv2.imshow(\"image\", image)\n",
    "#         cv2.waitKey(0)\n",
    "        plt.imshow(imutils.opencv2matplotlib(image))\n",
    "\n",
    "plt.show()       "
   ]
  },
  {
   "cell_type": "markdown",
   "metadata": {},
   "source": [
    "### {'+': 0, '-': 1, '0': 2, '1': 3, '2': 4, '3': 5, '4': 6, '5': 7, '6': 8, '7': 9, '8': 10, '9': 11, 'div': 12, 'times': 13}\n",
    "{'0': 0,\n",
    " '1': 1,\n",
    " '2': 2,\n",
    " '3': 3,\n",
    " '4': 4,\n",
    " '5': 5,\n",
    " '6': 6,\n",
    " '7': 7,\n",
    " '8': 8,\n",
    " '9': 9,\n",
    " 'addition': 10,\n",
    " 'division': 11,\n",
    " 'multiplication': 12,\n",
    " 'subtraction': 13}"
   ]
  },
  {
   "cell_type": "code",
   "execution_count": 74,
   "metadata": {
    "colab": {},
    "colab_type": "code",
    "id": "Mj_9nUrGJFDk"
   },
   "outputs": [],
   "source": [
    "def convert_math(math_detect):\n",
    "    for i in range(0, len(math_detect)):\n",
    "#         if math_detect[i] == 0:\n",
    "#             math_detect[i] = '+'\n",
    "#         elif math_detect[i] == 1:\n",
    "#             math_detect[i] = '-'\n",
    "#         elif math_detect[i] == 2:\n",
    "#             math_detect[i] = '0'\n",
    "#         elif math_detect[i] == 3:\n",
    "#             math_detect[i] = '1'\n",
    "#         elif math_detect[i] == 4:\n",
    "#             math_detect[i] = '2'\n",
    "#         elif math_detect[i] == 5:\n",
    "#             math_detect[i] = '3'\n",
    "#         elif math_detect[i] == 6:\n",
    "#             math_detect[i] = '4'\n",
    "#         elif math_detect[i] == 7:\n",
    "#             math_detect[i] = '5'\n",
    "#         elif math_detect[i] == 8:\n",
    "#             math_detect[i] = '6'\n",
    "#         elif math_detect[i] == 9:\n",
    "#             math_detect[i] = '7'\n",
    "#         elif math_detect[i] == 10:\n",
    "#             math_detect[i] = '8'\n",
    "#         elif math_detect[i] == 11:\n",
    "#             math_detect[i] = '9'\n",
    "#         elif math_detect[i] == 12:\n",
    "#             math_detect[i] = '/'\n",
    "#         elif math_detect[i] == 13:\n",
    "#             math_detect[i] = '*'\n",
    "        if math_detect[i] == 'addition':\n",
    "            math_detect[i] = '+'\n",
    "        elif math_detect[i] == 'division':\n",
    "            math_detect[i] = '/'\n",
    "        elif math_detect[i] == 'multiplication':\n",
    "            math_detect[i] = '*'\n",
    "        elif math_detect[i] == 'subtraction':\n",
    "            math_detect[i] = '-'\n",
    "    return math_detect"
   ]
  },
  {
   "cell_type": "code",
   "execution_count": 81,
   "metadata": {},
   "outputs": [],
   "source": [
    "def calculate_string(math_detect):\n",
    "    math_detect = convert_math(math_detect)\n",
    "    calculator = ''.join(str(item) for item in math_detect)\n",
    "    print(calculator + ' = ' + str(eval(calculator)))"
   ]
  },
  {
   "cell_type": "code",
   "execution_count": 103,
   "metadata": {},
   "outputs": [
    {
     "name": "stdout",
     "output_type": "stream",
     "text": [
      "10012 = 10012\n"
     ]
    }
   ],
   "source": [
    "calculate_string(math_detect)"
   ]
  },
  {
   "cell_type": "code",
   "execution_count": null,
   "metadata": {},
   "outputs": [],
   "source": []
  }
 ],
 "metadata": {
  "colab": {
   "name": "Copy of preprocess_with_cv2.ipynb",
   "provenance": [
    {
     "file_id": "1sgtwBrJTzoKwd8G_ixiD7gDQLOIdzlAk",
     "timestamp": 1567766111903
    }
   ],
   "version": "0.3.2"
  },
  "kernelspec": {
   "display_name": "Python 3",
   "language": "python",
   "name": "python3"
  },
  "language_info": {
   "codemirror_mode": {
    "name": "ipython",
    "version": 3
   },
   "file_extension": ".py",
   "mimetype": "text/x-python",
   "name": "python",
   "nbconvert_exporter": "python",
   "pygments_lexer": "ipython3",
   "version": "3.7.3"
  }
 },
 "nbformat": 4,
 "nbformat_minor": 1
}
