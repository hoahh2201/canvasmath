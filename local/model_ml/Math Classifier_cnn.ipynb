{
 "cells": [
  {
   "cell_type": "markdown",
   "metadata": {},
   "source": [
    "# AI CALCULATOR"
   ]
  },
  {
   "cell_type": "markdown",
   "metadata": {},
   "source": [
    "## Libraries"
   ]
  },
  {
   "cell_type": "code",
   "execution_count": 1,
   "metadata": {},
   "outputs": [
    {
     "data": {
      "text/plain": [
       "'2.0.0-beta1'"
      ]
     },
     "execution_count": 1,
     "metadata": {},
     "output_type": "execute_result"
    }
   ],
   "source": [
    "from __future__ import absolute_import, division, print_function, unicode_literals\n",
    "\n",
    "import matplotlib.pylab as plt\n",
    "import shutil # copy, move file\n",
    "import os # miscellaneous operation system interfaces\n",
    "import pathlib\n",
    "import random\n",
    "import numpy as np\n",
    "\n",
    "%matplotlib inline\n",
    "\n",
    "\n",
    "# !pip install tensorflow-gpu==2.0.0-beta1\n",
    "import tensorflow as tf\n",
    "tf.__version__"
   ]
  },
  {
   "cell_type": "markdown",
   "metadata": {},
   "source": [
    "## Path lead to photos"
   ]
  },
  {
   "cell_type": "code",
   "execution_count": 2,
   "metadata": {},
   "outputs": [],
   "source": [
    "data_root = pathlib.Path('./data')"
   ]
  },
  {
   "cell_type": "markdown",
   "metadata": {},
   "source": [
    "#### Take all images and paths lead to these images"
   ]
  },
  {
   "cell_type": "code",
   "execution_count": 3,
   "metadata": {},
   "outputs": [],
   "source": [
    "# Find all image's path\n",
    "all_image_paths = list(data_root.glob(\"*/*\"))\n",
    "all_image_paths = [str(path) for path in all_image_paths if path.is_file()]\n",
    "random.shuffle(all_image_paths)"
   ]
  },
  {
   "cell_type": "markdown",
   "metadata": {},
   "source": [
    "#### Total images"
   ]
  },
  {
   "cell_type": "code",
   "execution_count": 4,
   "metadata": {},
   "outputs": [
    {
     "data": {
      "text/plain": [
       "19460"
      ]
     },
     "execution_count": 4,
     "metadata": {},
     "output_type": "execute_result"
    }
   ],
   "source": [
    "image_count = len(all_image_paths)\n",
    "image_count"
   ]
  },
  {
   "cell_type": "code",
   "execution_count": 5,
   "metadata": {},
   "outputs": [
    {
     "name": "stdout",
     "output_type": "stream",
     "text": [
      "0\n",
      "3000\n",
      "6000\n",
      "9000\n",
      "12000\n",
      "15000\n",
      "18000\n"
     ]
    }
   ],
   "source": [
    "for index, image_path in enumerate(all_image_paths):\n",
    "    if (image_path.split('.')[1] != \"DS_Store\") :\n",
    "        try:\n",
    "            image = tf.io.read_file(image_path)\n",
    "            image = tf.image.decode_jpeg(image, channels=3)\n",
    "        except:\n",
    "            print(all_image_paths[index])\n",
    "        if index % 3000 == 0: \n",
    "            print(index)\n",
    "    else:\n",
    "        all_image_paths.remove(image_path)"
   ]
  },
  {
   "cell_type": "markdown",
   "metadata": {},
   "source": [
    "### Take labels"
   ]
  },
  {
   "cell_type": "code",
   "execution_count": 6,
   "metadata": {},
   "outputs": [
    {
     "data": {
      "text/plain": [
       "array(['0', '1', '10', '11', '12', '2', '3', '4', '5', '6', '7', '8', '9'],\n",
       "      dtype='<U2')"
      ]
     },
     "execution_count": 6,
     "metadata": {},
     "output_type": "execute_result"
    }
   ],
   "source": [
    "label_names = sorted(item.name for item in data_root.glob('*/') if item.is_dir())\n",
    "# label_names.remove('.ipynb_checkpoints')\n",
    "label_names = np.array(label_names)\n",
    "label_names"
   ]
  },
  {
   "cell_type": "markdown",
   "metadata": {},
   "source": [
    "### Set index for labels"
   ]
  },
  {
   "cell_type": "code",
   "execution_count": 7,
   "metadata": {},
   "outputs": [
    {
     "data": {
      "text/plain": [
       "{'0': 0,\n",
       " '1': 1,\n",
       " '10': 2,\n",
       " '11': 3,\n",
       " '12': 4,\n",
       " '2': 5,\n",
       " '3': 6,\n",
       " '4': 7,\n",
       " '5': 8,\n",
       " '6': 9,\n",
       " '7': 10,\n",
       " '8': 11,\n",
       " '9': 12}"
      ]
     },
     "execution_count": 7,
     "metadata": {},
     "output_type": "execute_result"
    }
   ],
   "source": [
    "label_to_index = dict((name, index) for index, name in enumerate(label_names))\n",
    "label_to_index"
   ]
  },
  {
   "cell_type": "markdown",
   "metadata": {},
   "source": [
    "### Set label for each image"
   ]
  },
  {
   "cell_type": "code",
   "execution_count": 8,
   "metadata": {},
   "outputs": [
    {
     "name": "stdout",
     "output_type": "stream",
     "text": [
      "First 10 labels indices:  [4, 4, 5, 12, 2, 4, 7, 4, 6, 0]\n"
     ]
    }
   ],
   "source": [
    "# Find all image's labels\n",
    "all_image_labels = [label_to_index[pathlib.Path(path).parent.name]\n",
    "                    for path in all_image_paths]\n",
    "\n",
    "print(\"First 10 labels indices: \", all_image_labels[:10])"
   ]
  },
  {
   "cell_type": "markdown",
   "metadata": {},
   "source": [
    "### Count amount per class"
   ]
  },
  {
   "cell_type": "code",
   "execution_count": 9,
   "metadata": {},
   "outputs": [
    {
     "data": {
      "text/plain": [
       "Counter({'12': 2927,\n",
       "         '2': 901,\n",
       "         '9': 544,\n",
       "         '10': 3771,\n",
       "         '4': 993,\n",
       "         '3': 814,\n",
       "         '0': 1266,\n",
       "         '5': 909,\n",
       "         '6': 1614,\n",
       "         '11': 3042,\n",
       "         '1': 1435,\n",
       "         '7': 529,\n",
       "         '8': 704})"
      ]
     },
     "execution_count": 9,
     "metadata": {},
     "output_type": "execute_result"
    }
   ],
   "source": [
    "# Count #image each class\n",
    "from collections import Counter\n",
    "count = Counter()\n",
    "\n",
    "for label in all_image_labels:\n",
    "    count[label_names[label]] += 1\n",
    "  \n",
    "count"
   ]
  },
  {
   "cell_type": "markdown",
   "metadata": {},
   "source": [
    "## Functions"
   ]
  },
  {
   "cell_type": "code",
   "execution_count": 10,
   "metadata": {},
   "outputs": [],
   "source": [
    "def preprocess_image(image):\n",
    "    image = tf.image.decode_jpeg(image, channels=3)\n",
    "    image = tf.image.rgb_to_grayscale(image)\n",
    "    image = tf.image.resize(image, [28, 28])\n",
    "    image = (255 - image)/255.0\n",
    "\n",
    "    return image\n",
    "\n",
    "def load_and_preprocess_image(path):\n",
    "    image = tf.io.read_file(path)\n",
    "    return preprocess_image(image)"
   ]
  },
  {
   "cell_type": "code",
   "execution_count": 11,
   "metadata": {},
   "outputs": [
    {
     "name": "stdout",
     "output_type": "stream",
     "text": [
      "data/10/exp17509.jpg\n"
     ]
    },
    {
     "data": {
      "image/png": "[encoded data removed]",
      "text/plain": [
       "<Figure size 432x288 with 1 Axes>"
      ]
     },
     "metadata": {
      "needs_background": "light"
     },
     "output_type": "display_data"
    }
   ],
   "source": [
    "index = random.randint(0, image_count)\n",
    "image_path = all_image_paths[index]\n",
    "label = all_image_labels[index]\n",
    "\n",
    "print(image_path)\n",
    "\n",
    "plt.imshow(load_and_preprocess_image(image_path)[:,:,0], cmap='gray')\n",
    "plt.grid(False)\n",
    "plt.title(label_names[label].title())\n",
    "plt.show()"
   ]
  },
  {
   "cell_type": "code",
   "execution_count": 12,
   "metadata": {},
   "outputs": [],
   "source": [
    "from sklearn.model_selection import train_test_split\n",
    "\n",
    "train_image_paths, test_image_paths, train_image_labels, test_image_labels = train_test_split(all_image_paths, all_image_labels, test_size=0.2, random_state=101)"
   ]
  },
  {
   "cell_type": "code",
   "execution_count": 13,
   "metadata": {},
   "outputs": [
    {
     "data": {
      "text/plain": [
       "7"
      ]
     },
     "execution_count": 13,
     "metadata": {},
     "output_type": "execute_result"
    }
   ],
   "source": [
    "test_image_paths[0]\n",
    "test_image_labels[0]"
   ]
  },
  {
   "cell_type": "code",
   "execution_count": 14,
   "metadata": {},
   "outputs": [],
   "source": [
    "# The tuples are unpacked into the positional arguments of the mapped function\n",
    "def load_and_preprocess_from_path_label(path, label):\n",
    "    return load_and_preprocess_image(path), label\n",
    "\n",
    "BATCH_SIZE = 32\n",
    "AUTOTUNE = tf.data.experimental.AUTOTUNE\n",
    "\n",
    "def create_ds(all_image_paths, all_image_labels):\n",
    "    ds = tf.data.Dataset.from_tensor_slices((all_image_paths, all_image_labels))\n",
    "    image_label_ds = ds.map(load_and_preprocess_from_path_label)\n",
    "\n",
    "    # Setting a shuffle buffer size as large as the dataset ensures that the data is\n",
    "    # completely shuffled.\n",
    "    ds = image_label_ds.shuffle(buffer_size=image_count)\n",
    "    ds = ds.repeat()\n",
    "    ds = ds.batch(BATCH_SIZE)\n",
    "    # `prefetch` lets the dataset fetch batches in the background while the model is training.\n",
    "    ds = ds.prefetch(buffer_size=AUTOTUNE)\n",
    "    return ds"
   ]
  },
  {
   "cell_type": "code",
   "execution_count": 15,
   "metadata": {},
   "outputs": [],
   "source": [
    "train_set = create_ds(train_image_paths, train_image_labels)\n",
    "test_set = create_ds(test_image_paths, test_image_labels)"
   ]
  },
  {
   "cell_type": "markdown",
   "metadata": {},
   "source": [
    "## Model summary"
   ]
  },
  {
   "cell_type": "code",
   "execution_count": 17,
   "metadata": {},
   "outputs": [
    {
     "name": "stdout",
     "output_type": "stream",
     "text": [
      "Model: \"sequential\"\n",
      "_________________________________________________________________\n",
      "Layer (type)                 Output Shape              Param #   \n",
      "=================================================================\n",
      "conv2d (Conv2D)              (None, 28, 28, 12)        108       \n",
      "_________________________________________________________________\n",
      "batch_normalization (BatchNo (None, 28, 28, 12)        36        \n",
      "_________________________________________________________________\n",
      "activation (Activation)      (None, 28, 28, 12)        0         \n",
      "_________________________________________________________________\n",
      "conv2d_1 (Conv2D)            (None, 14, 14, 24)        10368     \n",
      "_________________________________________________________________\n",
      "batch_normalization_1 (Batch (None, 14, 14, 24)        72        \n",
      "_________________________________________________________________\n",
      "activation_1 (Activation)    (None, 14, 14, 24)        0         \n",
      "_________________________________________________________________\n",
      "conv2d_2 (Conv2D)            (None, 7, 7, 32)          27648     \n",
      "_________________________________________________________________\n",
      "batch_normalization_2 (Batch (None, 7, 7, 32)          96        \n",
      "_________________________________________________________________\n",
      "activation_2 (Activation)    (None, 7, 7, 32)          0         \n",
      "_________________________________________________________________\n",
      "flatten (Flatten)            (None, 1568)              0         \n",
      "_________________________________________________________________\n",
      "dense (Dense)                (None, 200)               313600    \n",
      "_________________________________________________________________\n",
      "batch_normalization_3 (Batch (None, 200)               600       \n",
      "_________________________________________________________________\n",
      "activation_3 (Activation)    (None, 200)               0         \n",
      "_________________________________________________________________\n",
      "dropout (Dropout)            (None, 200)               0         \n",
      "_________________________________________________________________\n",
      "dense_1 (Dense)              (None, 13)                2613      \n",
      "=================================================================\n",
      "Total params: 355,141\n",
      "Trainable params: 354,605\n",
      "Non-trainable params: 536\n",
      "_________________________________________________________________\n"
     ]
    }
   ],
   "source": [
    "cnn_model = tf.keras.Sequential(\n",
    "  [\n",
    "#       tf.keras.layers.Reshape(input_shape=(28,28), target_shape=(28, 28, 1)),\n",
    "      \n",
    "      tf.keras.layers.Conv2D(kernel_size=3, filters=12, use_bias=False, padding='same', input_shape=(28, 28, 1)),\n",
    "      tf.keras.layers.BatchNormalization(center=True, scale=False),\n",
    "      tf.keras.layers.Activation('relu'),\n",
    "      \n",
    "      tf.keras.layers.Conv2D(kernel_size=6, filters=24, use_bias=False, padding='same', strides=2),\n",
    "      tf.keras.layers.BatchNormalization(center=True, scale=False),\n",
    "      tf.keras.layers.Activation('relu'),\n",
    "      \n",
    "      tf.keras.layers.Conv2D(kernel_size=6, filters=32, use_bias=False, padding='same', strides=2),\n",
    "      tf.keras.layers.BatchNormalization(center=True, scale=False),\n",
    "      tf.keras.layers.Activation('relu'),\n",
    "      \n",
    "      tf.keras.layers.Flatten(),\n",
    "      \n",
    "      tf.keras.layers.Dense(200, use_bias=False),\n",
    "      tf.keras.layers.BatchNormalization(center=True, scale=False),\n",
    "      tf.keras.layers.Activation('relu'),\n",
    "      \n",
    "      tf.keras.layers.Dropout(0.3),\n",
    "      tf.keras.layers.Dense(len(label_names), activation='softmax')\n",
    "  ])\n",
    "\n",
    "cnn_model.compile(optimizer=tf.keras.optimizers.Adam(lr=0.01),\n",
    "              loss='sparse_categorical_crossentropy',\n",
    "              metrics=['accuracy'])\n",
    "\n",
    "# print model layers\n",
    "cnn_model.summary()"
   ]
  },
  {
   "cell_type": "code",
   "execution_count": 18,
   "metadata": {},
   "outputs": [],
   "source": [
    "# mobile_net = tf.keras.applications.MobileNetV2(input_shape=(192, 192, 3), include_top=False)\n",
    "# mobile_net.trainable=False\n",
    "\n",
    "# model = tf.keras.Sequential([\n",
    "#     mobile_net,\n",
    "#     tf.keras.layers.GlobalAveragePooling2D(),\n",
    "#     tf.keras.layers.Dense(len(label_names), activation = 'softmax')])\n",
    "\n",
    "# base_learning_rate = 0.0001\n",
    "# model.compile(optimizer=tf.keras.optimizers.RMSprop(lr=base_learning_rate),\n",
    "#               loss='sparse_categorical_crossentropy',\n",
    "#               metrics=[\"accuracy\"])\n",
    "\n",
    "# model.summary()"
   ]
  },
  {
   "cell_type": "markdown",
   "metadata": {},
   "source": [
    "## Customized Callback"
   ]
  },
  {
   "cell_type": "code",
   "execution_count": 19,
   "metadata": {},
   "outputs": [],
   "source": [
    "class CollectBatchStats(tf.keras.callbacks.Callback):\n",
    "    def __init__(self):\n",
    "        self.batch_losses = []\n",
    "        self.batch_acc = []\n",
    "        self.batch_val_losses = []\n",
    "        self.batch_val_acc = []\n",
    "\n",
    "    def on_train_batch_end(self, batch, logs=None):\n",
    "        self.batch_losses.append(logs['loss'])\n",
    "        self.batch_acc.append(logs['accuracy'])\n",
    "#         self.model.reset_metrics()\n",
    "  \n",
    "    def on_test_batch_end(self, batch, logs=None):\n",
    "        self.batch_val_losses.append(logs['loss'])\n",
    "        self.batch_val_acc.append(logs['accuracy'])\n",
    "#         self.model.reset_metrics()\n"
   ]
  },
  {
   "cell_type": "markdown",
   "metadata": {},
   "source": [
    "## TRAINING"
   ]
  },
  {
   "cell_type": "code",
   "execution_count": 20,
   "metadata": {},
   "outputs": [
    {
     "name": "stdout",
     "output_type": "stream",
     "text": [
      "Epoch 1/6\n"
     ]
    },
    {
     "name": "stderr",
     "output_type": "stream",
     "text": [
      "WARNING: Logging before flag parsing goes to stderr.\n",
      "W1218 11:35:06.953776 4456744384 deprecation.py:323] From /Users/hoahh2201/anaconda3/lib/python3.7/site-packages/tensorflow/python/ops/math_grad.py:1250: add_dispatch_support.<locals>.wrapper (from tensorflow.python.ops.array_ops) is deprecated and will be removed in a future version.\n",
      "Instructions for updating:\n",
      "Use tf.where in 2.0, which has the same broadcast rule as np.where\n"
     ]
    },
    {
     "name": "stdout",
     "output_type": "stream",
     "text": [
      "486/486 [==============================] - 38s 78ms/step - loss: 0.1845 - accuracy: 0.9443 - val_loss: 0.0416 - val_accuracy: 0.9876\n",
      "Epoch 2/6\n",
      "486/486 [==============================] - 28s 57ms/step - loss: 0.0433 - accuracy: 0.9869 - val_loss: 0.0507 - val_accuracy: 0.9858\n",
      "Epoch 3/6\n",
      "486/486 [==============================] - 26s 53ms/step - loss: 0.0305 - accuracy: 0.9904 - val_loss: 0.0373 - val_accuracy: 0.9886\n",
      "Epoch 4/6\n",
      "486/486 [==============================] - 27s 56ms/step - loss: 0.0332 - accuracy: 0.9898 - val_loss: 0.0717 - val_accuracy: 0.9848\n",
      "Epoch 5/6\n",
      "486/486 [==============================] - 26s 54ms/step - loss: 0.0300 - accuracy: 0.9909 - val_loss: 0.0834 - val_accuracy: 0.9804\n",
      "Epoch 6/6\n",
      "486/486 [==============================] - 26s 53ms/step - loss: 0.0203 - accuracy: 0.9941 - val_loss: 0.0304 - val_accuracy: 0.9920\n"
     ]
    }
   ],
   "source": [
    "# steps_per_epoch = tf.math.ceil(0.9 * image_count/BATCH_SIZE).numpy()\n",
    "# val_steps_per_epoch = tf.math.ceil(0.1 * image_count/BATCH_SIZE).numpy()\n",
    "\n",
    "steps_per_epoch = len(train_image_labels) // BATCH_SIZE\n",
    "val_steps_per_epoch = len(test_image_labels) // BATCH_SIZE\n",
    "batch_stats_callback = CollectBatchStats()\n",
    "\n",
    "history = cnn_model.fit(train_set, epochs=6, \n",
    "            steps_per_epoch=steps_per_epoch,\n",
    "            callbacks = [batch_stats_callback],\n",
    "            validation_data=test_set,\n",
    "            validation_steps=val_steps_per_epoch)"
   ]
  },
  {
   "cell_type": "code",
   "execution_count": 22,
   "metadata": {},
   "outputs": [],
   "source": [
    "def plot_loss(training_losses, val_losses, x_label='Training Steps'):\n",
    "    plt.figure()\n",
    "    plt.ylabel(\"Loss\")\n",
    "    plt.xlabel(x_label)\n",
    "    \n",
    "    training_steps = len(training_losses)\n",
    "    test_steps = len(val_losses)\n",
    "    plt.plot(training_losses, label='Training Loss')\n",
    "    plt.plot(np.linspace(0, training_steps, test_steps), val_losses, label='Validation Loss')\n",
    "    plt.ylim([0,max(plt.ylim())])\n",
    "    plt.legend(loc='upper right')\n",
    "    plt.show()"
   ]
  },
  {
   "cell_type": "code",
   "execution_count": 23,
   "metadata": {},
   "outputs": [],
   "source": [
    "def plot_accuracy(training_acc, val_acc, x_label='Training Steps'):\n",
    "    plt.figure()\n",
    "    plt.ylabel(\"Accuracy\")\n",
    "    plt.xlabel(x_label)\n",
    "    \n",
    "    training_steps = len(training_acc)\n",
    "    test_steps = len(val_acc)\n",
    "    plt.plot(training_acc, label='Training Accuracy')\n",
    "    plt.plot(np.linspace(0, training_steps, test_steps), val_acc, label='Validation Accuracy')\n",
    "    plt.ylim([0,1])\n",
    "    plt.legend(loc='lower right')\n",
    "    plt.show()"
   ]
  },
  {
   "cell_type": "code",
   "execution_count": 24,
   "metadata": {},
   "outputs": [
    {
     "data": {
      "text/plain": [
       "<Figure size 432x288 with 0 Axes>"
      ]
     },
     "metadata": {},
     "output_type": "display_data"
    },
    {
     "data": {
      "image/png": "[encoded data removed]",
      "text/plain": [
       "<Figure size 1008x1008 with 4 Axes>"
      ]
     },
     "metadata": {
      "needs_background": "light"
     },
     "output_type": "display_data"
    }
   ],
   "source": [
    "def plot_training_results(training_acc, training_losses, val_acc, val_losses, epoch_acc, epoch_val_acc, epoch_loss, epoch_val_loss):\n",
    "    plt.figure()\n",
    "    fig, ax = plt.subplots(2, 2, figsize=[14, 14])\n",
    "\n",
    "    # Plot batch's training & validation losses\n",
    "    ax[0, 0].set_ylabel(\"Loss\")\n",
    "    ax[0, 0].set_xlabel(\"Training Steps\")\n",
    "\n",
    "    training_steps = len(training_losses)\n",
    "    test_steps = len(val_losses)\n",
    "    ax[0, 0].plot(training_losses, label='Batch Training Loss')\n",
    "    ax[0, 0].plot(np.linspace(0, training_steps, test_steps), val_losses, label='Batch Validation Loss')\n",
    "    ax[0, 0].set_ylim([0,max(ax[0, 0].set_ylim())])\n",
    "    ax[0, 0].legend(loc='upper right')\n",
    "\n",
    "    # Plot batchs training & validation accuracy\n",
    "    ax[0, 1].set_ylabel(\"Accuracy\")\n",
    "    ax[0, 1].set_xlabel(\"Training Steps\")\n",
    "\n",
    "    training_steps = len(training_acc)\n",
    "    test_steps = len(val_acc)\n",
    "    ax[0, 1].plot(training_acc, label='Batch Training Accuracy')\n",
    "    ax[0, 1].plot(np.linspace(0, training_steps, test_steps), val_acc, label='Batch Validation Accuracy')\n",
    "    ax[0, 1].set_ylim([0,1])\n",
    "    ax[0, 1].legend(loc='lower right')\n",
    "\n",
    "    # Plot epochs training & validation losses\n",
    "    ax[1, 0].set_ylabel(\"Loss\")\n",
    "    ax[1, 0].set_xlabel(\"Epochs\")\n",
    "\n",
    "    train_epochs = len(epoch_loss)\n",
    "    val_epochs = len(epoch_val_loss)\n",
    "    ax[1, 0].plot(epoch_loss, label='Epoch Training Loss')\n",
    "    ax[1, 0].plot(np.linspace(0, train_epochs, val_epochs), epoch_val_loss, label='Epoch Validation Loss')\n",
    "    ax[1, 0].set_ylim([0,max(ax[1, 0].set_ylim())])\n",
    "    ax[1, 0].legend(loc='upper right')\n",
    "\n",
    "    # Plot epochs training & validation accuracy\n",
    "    ax[1, 1].set_ylabel(\"Accuracy\")\n",
    "    ax[1, 1].set_xlabel(\"Epochs\")\n",
    "\n",
    "    train_epochs = len(epoch_acc)\n",
    "    val_epochs = len(epoch_val_acc)\n",
    "    ax[1, 1].plot(epoch_acc, label='Epoch Training Accuracy')\n",
    "    ax[1, 1].plot(np.linspace(0, train_epochs, val_epochs), epoch_val_acc, label='Epoch Validation Accuracy')\n",
    "    ax[1, 1].set_ylim([0,1])\n",
    "    ax[1, 1].legend(loc='lower right')\n",
    "\n",
    "    plt.show()\n",
    "\n",
    "plot_training_results(batch_stats_callback.batch_acc,\n",
    "                      batch_stats_callback.batch_losses, \n",
    "                      batch_stats_callback.batch_val_acc, \n",
    "                      batch_stats_callback.batch_val_losses,\n",
    "                      history.history['accuracy'],\n",
    "                      history.history['val_accuracy'],\n",
    "                      history.history['loss'],\n",
    "                      history.history['val_loss']\n",
    "                     )"
   ]
  },
  {
   "cell_type": "markdown",
   "metadata": {},
   "source": [
    "## Testing and preview"
   ]
  },
  {
   "cell_type": "code",
   "execution_count": 25,
   "metadata": {},
   "outputs": [
    {
     "name": "stdout",
     "output_type": "stream",
     "text": [
      "Image batch shape:  (32, 28, 28, 1)\n",
      "Label batch shape:  (32,)\n"
     ]
    }
   ],
   "source": [
    "# Take 1 batch out to test\n",
    "\n",
    "for image_batch, label_batch in test_set:\n",
    "    print(\"Image batch shape: \", image_batch.shape)\n",
    "    print(\"Label batch shape: \", label_batch.shape)\n",
    "    break"
   ]
  },
  {
   "cell_type": "code",
   "execution_count": null,
   "metadata": {},
   "outputs": [],
   "source": []
  },
  {
   "cell_type": "code",
   "execution_count": 26,
   "metadata": {},
   "outputs": [],
   "source": [
    "# Predict\n",
    "label_names = np.array(label_names)\n",
    "predicted_batch = cnn_model.predict(image_batch)\n",
    "predicted_id = np.argmax(predicted_batch, axis=1)\n",
    "predicted_label_batch = label_names[predicted_id]"
   ]
  },
  {
   "cell_type": "code",
   "execution_count": 27,
   "metadata": {},
   "outputs": [
    {
     "data": {
      "image/png": "[encoded data removed]",
      "text/plain": [
       "<Figure size 720x648 with 30 Axes>"
      ]
     },
     "metadata": {
      "needs_background": "light"
     },
     "output_type": "display_data"
    }
   ],
   "source": [
    "# Plot the result\n",
    "\n",
    "plt.figure(figsize=(10,9))\n",
    "plt.subplots_adjust(hspace=0.5)\n",
    "for n in range(30):\n",
    "    plt.subplot(6,5,n+1)\n",
    "    plt.imshow(image_batch[n][:,:,0])\n",
    "    color = \"green\" if predicted_id[n] == label_batch.numpy()[n] else \"red\"\n",
    "    plt.title(predicted_label_batch[n].title(), color=color)\n",
    "    plt.axis('off')\n",
    "_ = plt.suptitle(\"Model predictions (green: correct, red: incorrect)\")"
   ]
  },
  {
   "cell_type": "code",
   "execution_count": 29,
   "metadata": {},
   "outputs": [
    {
     "name": "stdout",
     "output_type": "stream",
     "text": [
      "32\n",
      "32\n"
     ]
    }
   ],
   "source": [
    "count = 0\n",
    "print(len(predicted_label_batch))\n",
    "for i in range(len(predicted_label_batch)):\n",
    "    if predicted_label_batch[0] == label_names[predicted_id][0]: count +=1\n",
    "print(count)"
   ]
  },
  {
   "cell_type": "markdown",
   "metadata": {},
   "source": [
    "## Export model"
   ]
  },
  {
   "cell_type": "code",
   "execution_count": 30,
   "metadata": {},
   "outputs": [],
   "source": [
    "# Export model\n",
    "cnn_model.save('./plus_minus_times_div.h5')"
   ]
  },
  {
   "cell_type": "code",
   "execution_count": 32,
   "metadata": {},
   "outputs": [
    {
     "name": "stdout",
     "output_type": "stream",
     "text": [
      "Model: \"sequential\"\n",
      "_________________________________________________________________\n",
      "Layer (type)                 Output Shape              Param #   \n",
      "=================================================================\n",
      "conv2d (Conv2D)              (None, 28, 28, 12)        108       \n",
      "_________________________________________________________________\n",
      "batch_normalization (BatchNo (None, 28, 28, 12)        36        \n",
      "_________________________________________________________________\n",
      "activation (Activation)      (None, 28, 28, 12)        0         \n",
      "_________________________________________________________________\n",
      "conv2d_1 (Conv2D)            (None, 14, 14, 24)        10368     \n",
      "_________________________________________________________________\n",
      "batch_normalization_1 (Batch (None, 14, 14, 24)        72        \n",
      "_________________________________________________________________\n",
      "activation_1 (Activation)    (None, 14, 14, 24)        0         \n",
      "_________________________________________________________________\n",
      "conv2d_2 (Conv2D)            (None, 7, 7, 32)          27648     \n",
      "_________________________________________________________________\n",
      "batch_normalization_2 (Batch (None, 7, 7, 32)          96        \n",
      "_________________________________________________________________\n",
      "activation_2 (Activation)    (None, 7, 7, 32)          0         \n",
      "_________________________________________________________________\n",
      "flatten (Flatten)            (None, 1568)              0         \n",
      "_________________________________________________________________\n",
      "dense (Dense)                (None, 200)               313600    \n",
      "_________________________________________________________________\n",
      "batch_normalization_3 (Batch (None, 200)               600       \n",
      "_________________________________________________________________\n",
      "activation_3 (Activation)    (None, 200)               0         \n",
      "_________________________________________________________________\n",
      "dropout (Dropout)            (None, 200)               0         \n",
      "_________________________________________________________________\n",
      "dense_1 (Dense)              (None, 13)                2613      \n",
      "=================================================================\n",
      "Total params: 355,141\n",
      "Trainable params: 354,605\n",
      "Non-trainable params: 536\n",
      "_________________________________________________________________\n"
     ]
    }
   ],
   "source": [
    "# Test model\n",
    "\n",
    "reloaded_model = tf.keras.models.load_model('./plus_minus_times_div.h5')\n",
    "reloaded_model.summary()"
   ]
  },
  {
   "cell_type": "code",
   "execution_count": 33,
   "metadata": {},
   "outputs": [],
   "source": [
    "result_batch = cnn_model.predict(image_batch)\n",
    "reloaded_result_batch = reloaded_model.predict(image_batch)"
   ]
  },
  {
   "cell_type": "code",
   "execution_count": 34,
   "metadata": {},
   "outputs": [
    {
     "data": {
      "text/plain": [
       "0.0"
      ]
     },
     "execution_count": 34,
     "metadata": {},
     "output_type": "execute_result"
    }
   ],
   "source": [
    "abs(reloaded_result_batch - result_batch).max()"
   ]
  },
  {
   "cell_type": "code",
   "execution_count": 35,
   "metadata": {},
   "outputs": [],
   "source": [
    "\n",
    "# loss, accuracy = cnn_model.evaluate(test_set)\n",
    "# print('loss: ', loss, '\\naccuracy: ', accuracy)"
   ]
  },
  {
   "cell_type": "code",
   "execution_count": 36,
   "metadata": {},
   "outputs": [],
   "source": [
    "def deskew(image, width):\n",
    "    (h, w) = image.shape[:2]\n",
    "    moments = cv2.moments(image)\n",
    "\n",
    "    skew = moments['mu11'] / moments['mu02']\n",
    "    M = np.float32([[1, skew, -0.5*w*skew],\n",
    "                    [0, 1, 0]])\n",
    "    image = cv2.warpAffine(image, M, (w, h), flags=cv2.WARP_INVERSE_MAP | cv2.INTER_LINEAR)\n",
    "\n",
    "    image = imutils.resize(image, width=width)\n",
    "\n",
    "    return image\n",
    "def center_extent(image, size):\n",
    "    (eW, eH) = size\n",
    "\n",
    "    if image.shape[1] > image.shape[0]:\n",
    "        image = imutils.resize(image, width=eW)\n",
    "    else:\n",
    "        image = imutils.resize(image, height=eH)\n",
    "\n",
    "    extent = np.zeros((eH, eW), dtype='uint8')\n",
    "    offsetX = (eW - image.shape[1]) // 2\n",
    "    offsetY = (eH - image.shape[0]) // 2\n",
    "    extent[offsetY:offsetY + image.shape[0], offsetX:offsetX+image.shape[1]] = image\n",
    "\n",
    "    CM = mahotas.center_of_mass(extent)\n",
    "    (cY, cX) = np.round(CM).astype(\"int32\")\n",
    "    (dX, dY) = ((size[0]//2) - cX, (size[1] // 2) - cY)\n",
    "    M = np.float32([[1, 0, dX], [0, 1, dY]])\n",
    "    extent = cv2.warpAffine(extent, M, size)\n",
    "\n",
    "    return extent"
   ]
  },
  {
   "cell_type": "code",
   "execution_count": null,
   "metadata": {},
   "outputs": [],
   "source": []
  }
 ],
 "metadata": {
  "kernelspec": {
   "display_name": "Python 3",
   "language": "python",
   "name": "python3"
  },
  "language_info": {
   "codemirror_mode": {
    "name": "ipython",
    "version": 3
   },
   "file_extension": ".py",
   "mimetype": "text/x-python",
   "name": "python",
   "nbconvert_exporter": "python",
   "pygments_lexer": "ipython3",
   "version": "3.7.3"
  }
 },
 "nbformat": 4,
 "nbformat_minor": 4
}
